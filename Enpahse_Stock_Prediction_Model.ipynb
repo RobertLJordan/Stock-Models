{
  "nbformat": 4,
  "nbformat_minor": 0,
  "metadata": {
    "colab": {
      "name": "Enpahse Stock Prediction Model.ipynb",
      "provenance": [],
      "authorship_tag": "ABX9TyPYQ8f9odKEJyh3ZVkEZwEn",
      "include_colab_link": true
    },
    "kernelspec": {
      "name": "python3",
      "display_name": "Python 3"
    }
  },
  "cells": [
    {
      "cell_type": "markdown",
      "metadata": {
        "id": "view-in-github",
        "colab_type": "text"
      },
      "source": [
        "<a href=\"https://colab.research.google.com/github/RobertLJordan/Stock-Models/blob/master/Enpahse_Stock_Prediction_Model.ipynb\" target=\"_parent\"><img src=\"https://colab.research.google.com/assets/colab-badge.svg\" alt=\"Open In Colab\"/></a>"
      ]
    },
    {
      "cell_type": "code",
      "metadata": {
        "id": "tUy_eRlSkxVg",
        "colab_type": "code",
        "colab": {
          "base_uri": "https://localhost:8080/",
          "height": 254
        },
        "outputId": "651e9a2d-9146-4e06-83cb-bb1749d46687"
      },
      "source": [
        "!pip install quandl\n",
        "import pandas as pd\n",
        "import quandl\n",
        "import numpy as np\n",
        "import matplotlib.pyplot as plt\n",
        "from sklearn.linear_model import LinearRegression\n",
        "from sklearn.svm import SVR\n",
        "from sklearn.model_selection import train_test_split\n",
        "import pandas_datareader as web"
      ],
      "execution_count": 116,
      "outputs": [
        {
          "output_type": "stream",
          "text": [
            "Requirement already satisfied: quandl in /usr/local/lib/python3.6/dist-packages (3.5.0)\n",
            "Requirement already satisfied: inflection>=0.3.1 in /usr/local/lib/python3.6/dist-packages (from quandl) (0.5.0)\n",
            "Requirement already satisfied: six in /usr/local/lib/python3.6/dist-packages (from quandl) (1.12.0)\n",
            "Requirement already satisfied: numpy>=1.8 in /usr/local/lib/python3.6/dist-packages (from quandl) (1.18.5)\n",
            "Requirement already satisfied: more-itertools in /usr/local/lib/python3.6/dist-packages (from quandl) (8.4.0)\n",
            "Requirement already satisfied: pandas>=0.14 in /usr/local/lib/python3.6/dist-packages (from quandl) (1.0.5)\n",
            "Requirement already satisfied: requests>=2.7.0 in /usr/local/lib/python3.6/dist-packages (from quandl) (2.23.0)\n",
            "Requirement already satisfied: python-dateutil in /usr/local/lib/python3.6/dist-packages (from quandl) (2.8.1)\n",
            "Requirement already satisfied: pytz>=2017.2 in /usr/local/lib/python3.6/dist-packages (from pandas>=0.14->quandl) (2018.9)\n",
            "Requirement already satisfied: idna<3,>=2.5 in /usr/local/lib/python3.6/dist-packages (from requests>=2.7.0->quandl) (2.9)\n",
            "Requirement already satisfied: chardet<4,>=3.0.2 in /usr/local/lib/python3.6/dist-packages (from requests>=2.7.0->quandl) (3.0.4)\n",
            "Requirement already satisfied: urllib3!=1.25.0,!=1.25.1,<1.26,>=1.21.1 in /usr/local/lib/python3.6/dist-packages (from requests>=2.7.0->quandl) (1.24.3)\n",
            "Requirement already satisfied: certifi>=2017.4.17 in /usr/local/lib/python3.6/dist-packages (from requests>=2.7.0->quandl) (2020.4.5.2)\n"
          ],
          "name": "stdout"
        }
      ]
    },
    {
      "cell_type": "code",
      "metadata": {
        "id": "PqpUIRdPlMw3",
        "colab_type": "code",
        "colab": {
          "base_uri": "https://localhost:8080/",
          "height": 228
        },
        "outputId": "8b0dc78f-664f-4fde-89da-9cbe5c430f51"
      },
      "source": [
        "df = web.DataReader('ENPH', data_source='yahoo', start='2013-01-01', end= '2020-06-19')\n",
        "df.head()"
      ],
      "execution_count": 117,
      "outputs": [
        {
          "output_type": "execute_result",
          "data": {
            "text/html": [
              "<div>\n",
              "<style scoped>\n",
              "    .dataframe tbody tr th:only-of-type {\n",
              "        vertical-align: middle;\n",
              "    }\n",
              "\n",
              "    .dataframe tbody tr th {\n",
              "        vertical-align: top;\n",
              "    }\n",
              "\n",
              "    .dataframe thead th {\n",
              "        text-align: right;\n",
              "    }\n",
              "</style>\n",
              "<table border=\"1\" class=\"dataframe\">\n",
              "  <thead>\n",
              "    <tr style=\"text-align: right;\">\n",
              "      <th></th>\n",
              "      <th>High</th>\n",
              "      <th>Low</th>\n",
              "      <th>Open</th>\n",
              "      <th>Close</th>\n",
              "      <th>Volume</th>\n",
              "      <th>Adj Close</th>\n",
              "    </tr>\n",
              "    <tr>\n",
              "      <th>Date</th>\n",
              "      <th></th>\n",
              "      <th></th>\n",
              "      <th></th>\n",
              "      <th></th>\n",
              "      <th></th>\n",
              "      <th></th>\n",
              "    </tr>\n",
              "  </thead>\n",
              "  <tbody>\n",
              "    <tr>\n",
              "      <th>2013-01-02</th>\n",
              "      <td>3.89</td>\n",
              "      <td>3.69</td>\n",
              "      <td>3.87</td>\n",
              "      <td>3.79</td>\n",
              "      <td>234600</td>\n",
              "      <td>3.79</td>\n",
              "    </tr>\n",
              "    <tr>\n",
              "      <th>2013-01-03</th>\n",
              "      <td>3.88</td>\n",
              "      <td>3.66</td>\n",
              "      <td>3.84</td>\n",
              "      <td>3.73</td>\n",
              "      <td>155400</td>\n",
              "      <td>3.73</td>\n",
              "    </tr>\n",
              "    <tr>\n",
              "      <th>2013-01-04</th>\n",
              "      <td>3.98</td>\n",
              "      <td>3.70</td>\n",
              "      <td>3.76</td>\n",
              "      <td>3.90</td>\n",
              "      <td>221200</td>\n",
              "      <td>3.90</td>\n",
              "    </tr>\n",
              "    <tr>\n",
              "      <th>2013-01-07</th>\n",
              "      <td>3.90</td>\n",
              "      <td>3.64</td>\n",
              "      <td>3.90</td>\n",
              "      <td>3.75</td>\n",
              "      <td>202300</td>\n",
              "      <td>3.75</td>\n",
              "    </tr>\n",
              "    <tr>\n",
              "      <th>2013-01-08</th>\n",
              "      <td>3.81</td>\n",
              "      <td>3.70</td>\n",
              "      <td>3.80</td>\n",
              "      <td>3.71</td>\n",
              "      <td>68400</td>\n",
              "      <td>3.71</td>\n",
              "    </tr>\n",
              "  </tbody>\n",
              "</table>\n",
              "</div>"
            ],
            "text/plain": [
              "            High   Low  Open  Close  Volume  Adj Close\n",
              "Date                                                  \n",
              "2013-01-02  3.89  3.69  3.87   3.79  234600       3.79\n",
              "2013-01-03  3.88  3.66  3.84   3.73  155400       3.73\n",
              "2013-01-04  3.98  3.70  3.76   3.90  221200       3.90\n",
              "2013-01-07  3.90  3.64  3.90   3.75  202300       3.75\n",
              "2013-01-08  3.81  3.70  3.80   3.71   68400       3.71"
            ]
          },
          "metadata": {
            "tags": []
          },
          "execution_count": 117
        }
      ]
    },
    {
      "cell_type": "code",
      "metadata": {
        "id": "Pv_oABMHloWF",
        "colab_type": "code",
        "colab": {}
      },
      "source": [
        "df= df[['Adj Close']]"
      ],
      "execution_count": 118,
      "outputs": []
    },
    {
      "cell_type": "code",
      "metadata": {
        "id": "6Sh1dJmfm6xK",
        "colab_type": "code",
        "colab": {
          "base_uri": "https://localhost:8080/",
          "height": 437
        },
        "outputId": "31d04ce8-f997-490d-980e-fd9f52bb002b"
      },
      "source": [
        "df"
      ],
      "execution_count": 119,
      "outputs": [
        {
          "output_type": "execute_result",
          "data": {
            "text/html": [
              "<div>\n",
              "<style scoped>\n",
              "    .dataframe tbody tr th:only-of-type {\n",
              "        vertical-align: middle;\n",
              "    }\n",
              "\n",
              "    .dataframe tbody tr th {\n",
              "        vertical-align: top;\n",
              "    }\n",
              "\n",
              "    .dataframe thead th {\n",
              "        text-align: right;\n",
              "    }\n",
              "</style>\n",
              "<table border=\"1\" class=\"dataframe\">\n",
              "  <thead>\n",
              "    <tr style=\"text-align: right;\">\n",
              "      <th></th>\n",
              "      <th>Adj Close</th>\n",
              "    </tr>\n",
              "    <tr>\n",
              "      <th>Date</th>\n",
              "      <th></th>\n",
              "    </tr>\n",
              "  </thead>\n",
              "  <tbody>\n",
              "    <tr>\n",
              "      <th>2013-01-02</th>\n",
              "      <td>3.790000</td>\n",
              "    </tr>\n",
              "    <tr>\n",
              "      <th>2013-01-03</th>\n",
              "      <td>3.730000</td>\n",
              "    </tr>\n",
              "    <tr>\n",
              "      <th>2013-01-04</th>\n",
              "      <td>3.900000</td>\n",
              "    </tr>\n",
              "    <tr>\n",
              "      <th>2013-01-07</th>\n",
              "      <td>3.750000</td>\n",
              "    </tr>\n",
              "    <tr>\n",
              "      <th>2013-01-08</th>\n",
              "      <td>3.710000</td>\n",
              "    </tr>\n",
              "    <tr>\n",
              "      <th>...</th>\n",
              "      <td>...</td>\n",
              "    </tr>\n",
              "    <tr>\n",
              "      <th>2020-06-15</th>\n",
              "      <td>50.450001</td>\n",
              "    </tr>\n",
              "    <tr>\n",
              "      <th>2020-06-16</th>\n",
              "      <td>52.759998</td>\n",
              "    </tr>\n",
              "    <tr>\n",
              "      <th>2020-06-17</th>\n",
              "      <td>39.040001</td>\n",
              "    </tr>\n",
              "    <tr>\n",
              "      <th>2020-06-18</th>\n",
              "      <td>45.720001</td>\n",
              "    </tr>\n",
              "    <tr>\n",
              "      <th>2020-06-19</th>\n",
              "      <td>46.720001</td>\n",
              "    </tr>\n",
              "  </tbody>\n",
              "</table>\n",
              "<p>1880 rows × 1 columns</p>\n",
              "</div>"
            ],
            "text/plain": [
              "            Adj Close\n",
              "Date                 \n",
              "2013-01-02   3.790000\n",
              "2013-01-03   3.730000\n",
              "2013-01-04   3.900000\n",
              "2013-01-07   3.750000\n",
              "2013-01-08   3.710000\n",
              "...               ...\n",
              "2020-06-15  50.450001\n",
              "2020-06-16  52.759998\n",
              "2020-06-17  39.040001\n",
              "2020-06-18  45.720001\n",
              "2020-06-19  46.720001\n",
              "\n",
              "[1880 rows x 1 columns]"
            ]
          },
          "metadata": {
            "tags": []
          },
          "execution_count": 119
        }
      ]
    },
    {
      "cell_type": "code",
      "metadata": {
        "id": "j1y8gC0Sm7YX",
        "colab_type": "code",
        "colab": {
          "base_uri": "https://localhost:8080/",
          "height": 228
        },
        "outputId": "f7f41173-102e-4ead-eb2c-ef3ac9e82511"
      },
      "source": [
        "forecast_out = 30\n",
        "#Create another column (the target or dependant variable) shifted 'n' units up\n",
        "df['Prediction'] = df[['Adj Close']].shift(-1)\n",
        "df.head()"
      ],
      "execution_count": 120,
      "outputs": [
        {
          "output_type": "execute_result",
          "data": {
            "text/html": [
              "<div>\n",
              "<style scoped>\n",
              "    .dataframe tbody tr th:only-of-type {\n",
              "        vertical-align: middle;\n",
              "    }\n",
              "\n",
              "    .dataframe tbody tr th {\n",
              "        vertical-align: top;\n",
              "    }\n",
              "\n",
              "    .dataframe thead th {\n",
              "        text-align: right;\n",
              "    }\n",
              "</style>\n",
              "<table border=\"1\" class=\"dataframe\">\n",
              "  <thead>\n",
              "    <tr style=\"text-align: right;\">\n",
              "      <th></th>\n",
              "      <th>Adj Close</th>\n",
              "      <th>Prediction</th>\n",
              "    </tr>\n",
              "    <tr>\n",
              "      <th>Date</th>\n",
              "      <th></th>\n",
              "      <th></th>\n",
              "    </tr>\n",
              "  </thead>\n",
              "  <tbody>\n",
              "    <tr>\n",
              "      <th>2013-01-02</th>\n",
              "      <td>3.79</td>\n",
              "      <td>3.73</td>\n",
              "    </tr>\n",
              "    <tr>\n",
              "      <th>2013-01-03</th>\n",
              "      <td>3.73</td>\n",
              "      <td>3.90</td>\n",
              "    </tr>\n",
              "    <tr>\n",
              "      <th>2013-01-04</th>\n",
              "      <td>3.90</td>\n",
              "      <td>3.75</td>\n",
              "    </tr>\n",
              "    <tr>\n",
              "      <th>2013-01-07</th>\n",
              "      <td>3.75</td>\n",
              "      <td>3.71</td>\n",
              "    </tr>\n",
              "    <tr>\n",
              "      <th>2013-01-08</th>\n",
              "      <td>3.71</td>\n",
              "      <td>3.75</td>\n",
              "    </tr>\n",
              "  </tbody>\n",
              "</table>\n",
              "</div>"
            ],
            "text/plain": [
              "            Adj Close  Prediction\n",
              "Date                             \n",
              "2013-01-02       3.79        3.73\n",
              "2013-01-03       3.73        3.90\n",
              "2013-01-04       3.90        3.75\n",
              "2013-01-07       3.75        3.71\n",
              "2013-01-08       3.71        3.75"
            ]
          },
          "metadata": {
            "tags": []
          },
          "execution_count": 120
        }
      ]
    },
    {
      "cell_type": "code",
      "metadata": {
        "id": "zSTbzQbFnyD2",
        "colab_type": "code",
        "colab": {}
      },
      "source": [
        "### create the independent data set (X)\n",
        "#conver the datfram to a numpy array\n",
        "X = np.array(df.drop(['Prediction'], 1))\n",
        "#remove the last 'n' rows\n",
        "X= X[:-forecast_out]"
      ],
      "execution_count": 121,
      "outputs": []
    },
    {
      "cell_type": "code",
      "metadata": {
        "id": "5CvHfWcPoeGz",
        "colab_type": "code",
        "colab": {
          "base_uri": "https://localhost:8080/",
          "height": 145
        },
        "outputId": "a30e490e-6bc9-436d-d98a-92553c90e160"
      },
      "source": [
        "print (X)"
      ],
      "execution_count": 122,
      "outputs": [
        {
          "output_type": "stream",
          "text": [
            "[[ 3.78999996]\n",
            " [ 3.73000002]\n",
            " [ 3.9000001 ]\n",
            " ...\n",
            " [44.36999893]\n",
            " [52.68000031]\n",
            " [54.49000168]]\n"
          ],
          "name": "stdout"
        }
      ]
    },
    {
      "cell_type": "code",
      "metadata": {
        "id": "qwnLzNcVoflv",
        "colab_type": "code",
        "colab": {
          "base_uri": "https://localhost:8080/",
          "height": 54
        },
        "outputId": "151e06f2-4dd1-4bca-d97b-2dd71ddef0dc"
      },
      "source": [
        "### Create the dependent data set (y)\n",
        "y = np.array(df['Prediction'])\n",
        "# Get all of the y values except the last 'n' rows\n",
        "y = y[:-forecast_out]\n",
        "y"
      ],
      "execution_count": 123,
      "outputs": [
        {
          "output_type": "execute_result",
          "data": {
            "text/plain": [
              "array([ 3.73000002,  3.9000001 ,  3.75      , ..., 52.68000031,\n",
              "       54.49000168, 57.27999878])"
            ]
          },
          "metadata": {
            "tags": []
          },
          "execution_count": 123
        }
      ]
    },
    {
      "cell_type": "code",
      "metadata": {
        "id": "xll4QhnMpVUT",
        "colab_type": "code",
        "colab": {}
      },
      "source": [
        "x_train, x_test, y_train, y_test =  train_test_split(X, y, test_size=0.2)"
      ],
      "execution_count": 124,
      "outputs": []
    },
    {
      "cell_type": "code",
      "metadata": {
        "id": "HxHlG9tcs8og",
        "colab_type": "code",
        "colab": {
          "base_uri": "https://localhost:8080/",
          "height": 54
        },
        "outputId": "d4df34bf-9661-4148-81a6-eb68bd1e390c"
      },
      "source": [
        "# Create and train the Support Vector Regressor\n",
        "svr_rbf = SVR(kernel='rbf', C=1e3, gamma=0.1)\n",
        "svr_rbf.fit(x_train, y_train)"
      ],
      "execution_count": 125,
      "outputs": [
        {
          "output_type": "execute_result",
          "data": {
            "text/plain": [
              "SVR(C=1000.0, cache_size=200, coef0=0.0, degree=3, epsilon=0.1, gamma=0.1,\n",
              "    kernel='rbf', max_iter=-1, shrinking=True, tol=0.001, verbose=False)"
            ]
          },
          "metadata": {
            "tags": []
          },
          "execution_count": 125
        }
      ]
    },
    {
      "cell_type": "code",
      "metadata": {
        "id": "Nb85Fd3CtfqC",
        "colab_type": "code",
        "colab": {
          "base_uri": "https://localhost:8080/",
          "height": 35
        },
        "outputId": "b1e87e00-78cf-4887-b108-a3d6d8cc29a7"
      },
      "source": [
        "#Testing Model: Score returns the coefficient of determination R^2\n",
        "#the best possible score is 1.0\n",
        "svm_confidence = svr_rbf.score(x_test, y_test)\n",
        "svm_confidence"
      ],
      "execution_count": 126,
      "outputs": [
        {
          "output_type": "execute_result",
          "data": {
            "text/plain": [
              "0.9875733290112569"
            ]
          },
          "metadata": {
            "tags": []
          },
          "execution_count": 126
        }
      ]
    },
    {
      "cell_type": "code",
      "metadata": {
        "id": "QjFrGKf2t5EN",
        "colab_type": "code",
        "colab": {
          "base_uri": "https://localhost:8080/",
          "height": 35
        },
        "outputId": "51c1c22e-802d-47f7-91a6-3551cf86f0ee"
      },
      "source": [
        "#Create and train the linear regression model\n",
        "lr = LinearRegression()\n",
        "#Train the model\n",
        "lr.fit(x_train, y_train)"
      ],
      "execution_count": 127,
      "outputs": [
        {
          "output_type": "execute_result",
          "data": {
            "text/plain": [
              "LinearRegression(copy_X=True, fit_intercept=True, n_jobs=None, normalize=False)"
            ]
          },
          "metadata": {
            "tags": []
          },
          "execution_count": 127
        }
      ]
    },
    {
      "cell_type": "code",
      "metadata": {
        "id": "tJeNf-S_uQwD",
        "colab_type": "code",
        "colab": {
          "base_uri": "https://localhost:8080/",
          "height": 35
        },
        "outputId": "45850c34-e349-40e3-a1cc-814ad745801f"
      },
      "source": [
        "#Testing Model: Score returns the coefficient of determination R^2\n",
        "#the best possible score is 1.0\n",
        "lr_confidence = lr.score(x_test, y_test)\n",
        "lr_confidence"
      ],
      "execution_count": 128,
      "outputs": [
        {
          "output_type": "execute_result",
          "data": {
            "text/plain": [
              "0.9960767118977375"
            ]
          },
          "metadata": {
            "tags": []
          },
          "execution_count": 128
        }
      ]
    },
    {
      "cell_type": "code",
      "metadata": {
        "id": "O5k2MlhBujny",
        "colab_type": "code",
        "colab": {}
      },
      "source": [
        "# Set x_forecast equal to the last 30 rows of the original data set from Adj Close column\n",
        "x_forecast = np.array(df.drop(['Prediction'], 1))[-forecast_out:]"
      ],
      "execution_count": 129,
      "outputs": []
    },
    {
      "cell_type": "code",
      "metadata": {
        "id": "JaRKlbbtu-3B",
        "colab_type": "code",
        "colab": {
          "base_uri": "https://localhost:8080/",
          "height": 563
        },
        "outputId": "b7563df6-6c8d-4846-b182-f1bd30157b88"
      },
      "source": [
        "x_forecast"
      ],
      "execution_count": 130,
      "outputs": [
        {
          "output_type": "execute_result",
          "data": {
            "text/plain": [
              "array([[57.27999878],\n",
              "       [59.58000183],\n",
              "       [59.27000046],\n",
              "       [57.47000122],\n",
              "       [56.97999954],\n",
              "       [58.38000107],\n",
              "       [64.41999817],\n",
              "       [67.04000092],\n",
              "       [64.16999817],\n",
              "       [59.93000031],\n",
              "       [56.41999817],\n",
              "       [58.43000031],\n",
              "       [57.86000061],\n",
              "       [55.79999924],\n",
              "       [58.18999863],\n",
              "       [59.68000031],\n",
              "       [56.95000076],\n",
              "       [53.31999969],\n",
              "       [51.63999939],\n",
              "       [54.59000015],\n",
              "       [52.90000153],\n",
              "       [51.58000183],\n",
              "       [49.34999847],\n",
              "       [47.65999985],\n",
              "       [48.63000107],\n",
              "       [50.45000076],\n",
              "       [52.75999832],\n",
              "       [39.04000092],\n",
              "       [45.72000122],\n",
              "       [46.72000122]])"
            ]
          },
          "metadata": {
            "tags": []
          },
          "execution_count": 130
        }
      ]
    },
    {
      "cell_type": "code",
      "metadata": {
        "id": "fiXXNXENvA0-",
        "colab_type": "code",
        "colab": {
          "base_uri": "https://localhost:8080/",
          "height": 126
        },
        "outputId": "b40904be-d339-44a4-ca29-b17aceb5ccbb"
      },
      "source": [
        "#print the linear regression prediction for the next 'n' days\n",
        "lr_prediction = lr.predict(x_forecast)\n",
        "lr_prediction"
      ],
      "execution_count": 131,
      "outputs": [
        {
          "output_type": "execute_result",
          "data": {
            "text/plain": [
              "array([57.49325356, 59.80156509, 59.49044387, 57.68394236, 57.19217061,\n",
              "       58.59722947, 64.65904531, 67.28851249, 64.40814222, 60.15282789,\n",
              "       56.63014631, 58.64740932, 58.07535058, 56.00790771, 58.40654067,\n",
              "       59.90192479, 57.16206347, 53.51894947, 51.83288038, 54.79353765,\n",
              "       53.09743411, 51.77266608, 49.53460712, 47.83850358, 48.81200881,\n",
              "       50.63858303, 52.95692517, 39.18736598, 45.89149695, 46.89510933])"
            ]
          },
          "metadata": {
            "tags": []
          },
          "execution_count": 131
        }
      ]
    },
    {
      "cell_type": "code",
      "metadata": {
        "id": "hLYTcIvOvRYe",
        "colab_type": "code",
        "colab": {
          "base_uri": "https://localhost:8080/",
          "height": 126
        },
        "outputId": "6fb3b3be-e870-4b80-f2c1-a75810d261a4"
      },
      "source": [
        "#print the support vector regresor prediction for the next 'n' days\n",
        "svm_prediction = svr_rbf.predict(x_forecast)\n",
        "svm_prediction"
      ],
      "execution_count": 132,
      "outputs": [
        {
          "output_type": "execute_result",
          "data": {
            "text/plain": [
              "array([58.30202852, 47.69060728, 52.59969798, 59.79328691, 55.65922517,\n",
              "       61.65980008, 26.77764032, 28.14292702, 26.36098945, 41.85029561,\n",
              "       51.20070532, 61.42931613, 61.88382904, 49.32767547, 62.19536121,\n",
              "       46.02978928, 55.39031271, 58.08512504, 47.80336908, 55.39872601,\n",
              "       55.90678296, 47.58642141, 48.38576388, 36.02517499, 44.50794787,\n",
              "       47.66612696, 54.96007594, 38.95684643, 40.36578943, 32.95694313])"
            ]
          },
          "metadata": {
            "tags": []
          },
          "execution_count": 132
        }
      ]
    },
    {
      "cell_type": "code",
      "metadata": {
        "id": "0ZBGiNdqvsX-",
        "colab_type": "code",
        "colab": {}
      },
      "source": [
        "svm_prediction_df = pd.DataFrame(svm_prediction, columns={'Predicted_Price'})\n",
        "svm_prediction_df = svm_prediction_df[::-1].reset_index(drop=True)# reverse the order of index"
      ],
      "execution_count": 133,
      "outputs": []
    },
    {
      "cell_type": "code",
      "metadata": {
        "id": "KQOl1lCUzjPR",
        "colab_type": "code",
        "colab": {}
      },
      "source": [
        "svm_prediction_df['Date'] = pd.date_range('today', periods=len(svm_prediction_df), freq='D').normalize()"
      ],
      "execution_count": 134,
      "outputs": []
    },
    {
      "cell_type": "code",
      "metadata": {
        "id": "raIYZdai4GRw",
        "colab_type": "code",
        "colab": {
          "base_uri": "https://localhost:8080/",
          "height": 948
        },
        "outputId": "374cc845-b367-4e0b-c220-48b33def7d86"
      },
      "source": [
        "\n",
        "svm_prediction_df"
      ],
      "execution_count": 135,
      "outputs": [
        {
          "output_type": "execute_result",
          "data": {
            "text/html": [
              "<div>\n",
              "<style scoped>\n",
              "    .dataframe tbody tr th:only-of-type {\n",
              "        vertical-align: middle;\n",
              "    }\n",
              "\n",
              "    .dataframe tbody tr th {\n",
              "        vertical-align: top;\n",
              "    }\n",
              "\n",
              "    .dataframe thead th {\n",
              "        text-align: right;\n",
              "    }\n",
              "</style>\n",
              "<table border=\"1\" class=\"dataframe\">\n",
              "  <thead>\n",
              "    <tr style=\"text-align: right;\">\n",
              "      <th></th>\n",
              "      <th>Predicted_Price</th>\n",
              "      <th>Date</th>\n",
              "    </tr>\n",
              "  </thead>\n",
              "  <tbody>\n",
              "    <tr>\n",
              "      <th>0</th>\n",
              "      <td>32.956943</td>\n",
              "      <td>2020-06-23</td>\n",
              "    </tr>\n",
              "    <tr>\n",
              "      <th>1</th>\n",
              "      <td>40.365789</td>\n",
              "      <td>2020-06-24</td>\n",
              "    </tr>\n",
              "    <tr>\n",
              "      <th>2</th>\n",
              "      <td>38.956846</td>\n",
              "      <td>2020-06-25</td>\n",
              "    </tr>\n",
              "    <tr>\n",
              "      <th>3</th>\n",
              "      <td>54.960076</td>\n",
              "      <td>2020-06-26</td>\n",
              "    </tr>\n",
              "    <tr>\n",
              "      <th>4</th>\n",
              "      <td>47.666127</td>\n",
              "      <td>2020-06-27</td>\n",
              "    </tr>\n",
              "    <tr>\n",
              "      <th>5</th>\n",
              "      <td>44.507948</td>\n",
              "      <td>2020-06-28</td>\n",
              "    </tr>\n",
              "    <tr>\n",
              "      <th>6</th>\n",
              "      <td>36.025175</td>\n",
              "      <td>2020-06-29</td>\n",
              "    </tr>\n",
              "    <tr>\n",
              "      <th>7</th>\n",
              "      <td>48.385764</td>\n",
              "      <td>2020-06-30</td>\n",
              "    </tr>\n",
              "    <tr>\n",
              "      <th>8</th>\n",
              "      <td>47.586421</td>\n",
              "      <td>2020-07-01</td>\n",
              "    </tr>\n",
              "    <tr>\n",
              "      <th>9</th>\n",
              "      <td>55.906783</td>\n",
              "      <td>2020-07-02</td>\n",
              "    </tr>\n",
              "    <tr>\n",
              "      <th>10</th>\n",
              "      <td>55.398726</td>\n",
              "      <td>2020-07-03</td>\n",
              "    </tr>\n",
              "    <tr>\n",
              "      <th>11</th>\n",
              "      <td>47.803369</td>\n",
              "      <td>2020-07-04</td>\n",
              "    </tr>\n",
              "    <tr>\n",
              "      <th>12</th>\n",
              "      <td>58.085125</td>\n",
              "      <td>2020-07-05</td>\n",
              "    </tr>\n",
              "    <tr>\n",
              "      <th>13</th>\n",
              "      <td>55.390313</td>\n",
              "      <td>2020-07-06</td>\n",
              "    </tr>\n",
              "    <tr>\n",
              "      <th>14</th>\n",
              "      <td>46.029789</td>\n",
              "      <td>2020-07-07</td>\n",
              "    </tr>\n",
              "    <tr>\n",
              "      <th>15</th>\n",
              "      <td>62.195361</td>\n",
              "      <td>2020-07-08</td>\n",
              "    </tr>\n",
              "    <tr>\n",
              "      <th>16</th>\n",
              "      <td>49.327675</td>\n",
              "      <td>2020-07-09</td>\n",
              "    </tr>\n",
              "    <tr>\n",
              "      <th>17</th>\n",
              "      <td>61.883829</td>\n",
              "      <td>2020-07-10</td>\n",
              "    </tr>\n",
              "    <tr>\n",
              "      <th>18</th>\n",
              "      <td>61.429316</td>\n",
              "      <td>2020-07-11</td>\n",
              "    </tr>\n",
              "    <tr>\n",
              "      <th>19</th>\n",
              "      <td>51.200705</td>\n",
              "      <td>2020-07-12</td>\n",
              "    </tr>\n",
              "    <tr>\n",
              "      <th>20</th>\n",
              "      <td>41.850296</td>\n",
              "      <td>2020-07-13</td>\n",
              "    </tr>\n",
              "    <tr>\n",
              "      <th>21</th>\n",
              "      <td>26.360989</td>\n",
              "      <td>2020-07-14</td>\n",
              "    </tr>\n",
              "    <tr>\n",
              "      <th>22</th>\n",
              "      <td>28.142927</td>\n",
              "      <td>2020-07-15</td>\n",
              "    </tr>\n",
              "    <tr>\n",
              "      <th>23</th>\n",
              "      <td>26.777640</td>\n",
              "      <td>2020-07-16</td>\n",
              "    </tr>\n",
              "    <tr>\n",
              "      <th>24</th>\n",
              "      <td>61.659800</td>\n",
              "      <td>2020-07-17</td>\n",
              "    </tr>\n",
              "    <tr>\n",
              "      <th>25</th>\n",
              "      <td>55.659225</td>\n",
              "      <td>2020-07-18</td>\n",
              "    </tr>\n",
              "    <tr>\n",
              "      <th>26</th>\n",
              "      <td>59.793287</td>\n",
              "      <td>2020-07-19</td>\n",
              "    </tr>\n",
              "    <tr>\n",
              "      <th>27</th>\n",
              "      <td>52.599698</td>\n",
              "      <td>2020-07-20</td>\n",
              "    </tr>\n",
              "    <tr>\n",
              "      <th>28</th>\n",
              "      <td>47.690607</td>\n",
              "      <td>2020-07-21</td>\n",
              "    </tr>\n",
              "    <tr>\n",
              "      <th>29</th>\n",
              "      <td>58.302029</td>\n",
              "      <td>2020-07-22</td>\n",
              "    </tr>\n",
              "  </tbody>\n",
              "</table>\n",
              "</div>"
            ],
            "text/plain": [
              "    Predicted_Price       Date\n",
              "0         32.956943 2020-06-23\n",
              "1         40.365789 2020-06-24\n",
              "2         38.956846 2020-06-25\n",
              "3         54.960076 2020-06-26\n",
              "4         47.666127 2020-06-27\n",
              "5         44.507948 2020-06-28\n",
              "6         36.025175 2020-06-29\n",
              "7         48.385764 2020-06-30\n",
              "8         47.586421 2020-07-01\n",
              "9         55.906783 2020-07-02\n",
              "10        55.398726 2020-07-03\n",
              "11        47.803369 2020-07-04\n",
              "12        58.085125 2020-07-05\n",
              "13        55.390313 2020-07-06\n",
              "14        46.029789 2020-07-07\n",
              "15        62.195361 2020-07-08\n",
              "16        49.327675 2020-07-09\n",
              "17        61.883829 2020-07-10\n",
              "18        61.429316 2020-07-11\n",
              "19        51.200705 2020-07-12\n",
              "20        41.850296 2020-07-13\n",
              "21        26.360989 2020-07-14\n",
              "22        28.142927 2020-07-15\n",
              "23        26.777640 2020-07-16\n",
              "24        61.659800 2020-07-17\n",
              "25        55.659225 2020-07-18\n",
              "26        59.793287 2020-07-19\n",
              "27        52.599698 2020-07-20\n",
              "28        47.690607 2020-07-21\n",
              "29        58.302029 2020-07-22"
            ]
          },
          "metadata": {
            "tags": []
          },
          "execution_count": 135
        }
      ]
    },
    {
      "cell_type": "code",
      "metadata": {
        "id": "U0Py31nEzMEE",
        "colab_type": "code",
        "colab": {}
      },
      "source": [
        "svm_prediction_df.set_index('Date', inplace=True)"
      ],
      "execution_count": 136,
      "outputs": []
    },
    {
      "cell_type": "code",
      "metadata": {
        "id": "bAlVXa5g2hS8",
        "colab_type": "code",
        "colab": {
          "base_uri": "https://localhost:8080/",
          "height": 521
        },
        "outputId": "fc7cf0c1-0cda-428b-8bf2-8fe7c3b60910"
      },
      "source": [
        "#Visualize the closing price history\n",
        "plt.figure(figsize=(16,8)) #give plot a size\n",
        "plt.title('Projected_Closing Price') # give plot a title\n",
        "plt.plot(svm_prediction_df['Predicted_Price']) #give plot some data\n",
        "plt.xlabel('Date', fontsize=18)\n",
        "plt.ylabel('Close Price USD ($)', fontsize=18)\n",
        "plt.show()"
      ],
      "execution_count": 137,
      "outputs": [
        {
          "output_type": "display_data",
          "data": {
            "image/png": "[encoded data removed]",
            "text/plain": [
              "<Figure size 1152x576 with 1 Axes>"
            ]
          },
          "metadata": {
            "tags": [],
            "needs_background": "light"
          }
        }
      ]
    }
  ]
}